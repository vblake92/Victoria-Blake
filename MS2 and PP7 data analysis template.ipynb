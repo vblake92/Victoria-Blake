{
 "cells": [
  {
   "cell_type": "markdown",
   "metadata": {},
   "source": [
    "# Objective\n",
    "\n",
    "This is the template for how I processed and plotted MS2- and PP7- fluorescent intensity data for Blake & Eisen 2022. The workflow here consists of:\n",
    "\n",
    "* extracting fluorescence intensity values for each time point from the Spots.mat files\n",
    "* saving these values for a given embryo as a variable\n",
    "* plotting the data in a histogram or strip plot (fluorescence intensity for a given sex over time)\n",
    "\n",
    "At the end, I also explain how I plotted particle intensity traces for _PP7-btd_"
   ]
  },
  {
   "cell_type": "code",
   "execution_count": 2,
   "metadata": {},
   "outputs": [],
   "source": [
    "#Import necessary packages\n",
    "import scipy.io\n",
    "import numpy as np\n",
    "import pandas as pd\n",
    "import seaborn as sea\n",
    "import matplotlib.pyplot as plt\n",
    "import matplotlib.transforms as transforms\n",
    "%matplotlib inline "
   ]
  },
  {
   "cell_type": "code",
   "execution_count": null,
   "metadata": {},
   "outputs": [],
   "source": [
    "#Establish a project directory where your figures will save\n",
    "ProjectDirectory = 'filepath'"
   ]
  },
  {
   "cell_type": "markdown",
   "metadata": {},
   "source": [
    "Next, I linked variables representing individual embryos to their relevant Spots.mat file"
   ]
  },
  {
   "cell_type": "code",
   "execution_count": null,
   "metadata": {},
   "outputs": [],
   "source": [
    "male1 = scipy.io.loadmat('filepath to male Spots.mat')\n",
    "fem1 = scipy.io.loadmat('filepath to female Spots.mat')"
   ]
  },
  {
   "cell_type": "markdown",
   "metadata": {},
   "source": [
    "I have a function here that extracts the intensity of each fluorescent spot of each frame of the MS2 or PP7 movie"
   ]
  },
  {
   "cell_type": "code",
   "execution_count": null,
   "metadata": {},
   "outputs": [],
   "source": [
    "def getIntensity(mat): ##this works better\n",
    "    \"\"\"gets spot intensity from each spot of each frame of MS2 movie\"\"\"\n",
    "    spots = mat['Spots']\n",
    "    nFrames = spots[0].shape[0]\n",
    "    #print(nFrames)\n",
    "    FixedAreaIntensity3 = []\n",
    "    for frame in range(0, nFrames-1):\n",
    "        FixedAreaIntensity3.append([])\n",
    "        if len(spots[0][frame][0]) > 0:\n",
    "            nSpots = spots[0][frame][0][0].shape[0]\n",
    "                #print(nSpots)\n",
    "            for spot in range(0, nSpots):\n",
    "                val = spots[0][frame][0][0][spot][16][0][0]\n",
    "                FixedAreaIntensity3[frame].append(val)\n",
    "    return FixedAreaIntensity3 "
   ]
  },
  {
   "cell_type": "code",
   "execution_count": null,
   "metadata": {},
   "outputs": [],
   "source": [
    "#Save intensities for a given embryo as a variable\n",
    "IntMale1 = getIntensity(male1) \n",
    "IntFem1 = getIntensity(fem1) "
   ]
  },
  {
   "cell_type": "markdown",
   "metadata": {},
   "source": [
    "To plot male and female embryos on the same strip plot, use the following code:"
   ]
  },
  {
   "cell_type": "code",
   "execution_count": null,
   "metadata": {},
   "outputs": [],
   "source": [
    "sea.set(rc={'figure.figsize':(30,10)})\n",
    "sea.set_style(\"white\")\n",
    "sea.set(font_scale = 1.5)\n",
    "fig, ax = plt.subplots()\n",
    "\n",
    "dx, dy = 8/72., 0.\n",
    "offset = transforms.ScaledTranslation(dx, dy, ax.figure.dpi_scale_trans)\n",
    "shadow_transform = ax.transData + offset\n",
    "\n",
    "sea.stripplot(data = IntFem1, color=sea.xkcd_rgb[\"orange\"])\n",
    "sea.stripplot(data = IntMale1, color=sea.xkcd_rgb[\"dark cyan\"], transform=shadow_transform)\n",
    "plt.ylabel(\"Fluorescent Spot Intensity\", fontsize = 20)\n",
    "plt.xlabel(\"Frame\", fontsize = 20)\n",
    "sea.set(font_scale = 16)\n",
    "plt.title('Fluorescent Spot Intensities By Frame', fontsize = 32)\n",
    "plt.legend(labels=[\"M\",\"F\"], title = \"Sex\", fontsize = '26', title_fontsize = \"30\")\n",
    "plt.ylim(0,1200000)\n",
    "\n",
    "#plt.savefig(\"MvF.png\", dpi= 300)"
   ]
  },
  {
   "cell_type": "markdown",
   "metadata": {},
   "source": [
    "To plot the distribution of fluorescent intensity of many embryos, I made a list of values for all males and all female embryos"
   ]
  },
  {
   "cell_type": "code",
   "execution_count": null,
   "metadata": {},
   "outputs": [],
   "source": [
    "f_all = []\n",
    "f_all.append(f1)\n",
    "f_all.append(f2)\n",
    "\n",
    "m_all = []\n",
    "m_all.append(m1)\n",
    "m_all.append(m2)\n",
    "\n",
    "f_all = np.concatenate(f_all)\n",
    "m_all = np.concatenate(m_all)"
   ]
  },
  {
   "cell_type": "markdown",
   "metadata": {},
   "source": [
    "Then I could plot M v F histograms like so:"
   ]
  },
  {
   "cell_type": "code",
   "execution_count": null,
   "metadata": {},
   "outputs": [],
   "source": [
    "fig, ax = plt.subplots()\n",
    "ax.set(yscale=\"log\")\n",
    "sea.set_style(\"white\")\n",
    "sea.histplot(f_all, color=sea.xkcd_rgb[\"orange\"], kde = True, stat = \"density\")\n",
    "plt.xlim(0,650000)\n",
    "sea.set(font_scale = 0.75)\n",
    "plt.ylabel(\"Density\", fontsize = 14)\n",
    "plt.xlabel(\"Fluorescent Spot Intensity\", fontsize = 14)\n",
    "plt.title('Distribution of Fluorescent Spot Intensities of Female Loci', fontsize = 16)\n",
    "plt.legend(labels=[\"M\",\"F\"], title = \"Sex\", fontsize = '26', title_fontsize = \"30\")\n",
    "\n",
    "plt.savefig(\"Fvalues.png\", dpi= 300)"
   ]
  },
  {
   "cell_type": "markdown",
   "metadata": {},
   "source": [
    "## Plotting particle traces instead of single fluorescent spot traces\n",
    "\n",
    "A particle represents a transcribing locus tracked through time. In order to look at the average fluorescent particle intensity for _PP7-btd_ in male and female embryos, I manually curated the particle tracking in the custom image processing pipeline and exported the data to a .csv file. From there, I plotted the data as follows:"
   ]
  },
  {
   "cell_type": "code",
   "execution_count": null,
   "metadata": {},
   "outputs": [],
   "source": [
    "df = pd.read_csv('filepath to your .csv file containing particle intensity values')"
   ]
  },
  {
   "cell_type": "code",
   "execution_count": null,
   "metadata": {},
   "outputs": [],
   "source": [
    "sea.set_palette(\"Set2\")\n",
    "sea.set_style(\"white\")\n",
    "sea.lineplot(data=df, x=\"Frame\", y=\"Fluorescent Particle Intensity\", hue=\"Sex\")\n",
    "plt.ylabel(\"Fluorescent Particle Intensity\", fontsize = 12)\n",
    "plt.xlabel(\"Frame\", fontsize = 12)\n",
    "plt.title('Average Particle Intensity', fontsize = 10)\n",
    "plt.savefig(\"particleTraces\", dpi=300)"
   ]
  }
 ],
 "metadata": {
  "kernelspec": {
   "display_name": "Python [conda env:bigfish] *",
   "language": "python",
   "name": "conda-env-bigfish-py"
  },
  "language_info": {
   "codemirror_mode": {
    "name": "ipython",
    "version": 3
   },
   "file_extension": ".py",
   "mimetype": "text/x-python",
   "name": "python",
   "nbconvert_exporter": "python",
   "pygments_lexer": "ipython3",
   "version": "3.8.5"
  }
 },
 "nbformat": 4,
 "nbformat_minor": 4
}
